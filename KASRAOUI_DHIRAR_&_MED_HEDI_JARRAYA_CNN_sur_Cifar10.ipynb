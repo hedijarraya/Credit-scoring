{
  "cells": [
    {
      "cell_type": "raw",
      "id": "64c78a9d",
      "metadata": {
        "id": "64c78a9d"
      },
      "source": [
        "Load Package"
      ]
    },
    {
      "cell_type": "code",
      "execution_count": null,
      "id": "18cc8191",
      "metadata": {
        "id": "18cc8191"
      },
      "outputs": [],
      "source": [
        "#from keras.datasets.mnist import load_data\n",
        "from keras.datasets.cifar10 import load_data\n",
        "\n",
        "import numpy as np\n",
        "from sklearn.model_selection import train_test_split\n",
        "from tensorflow.keras.utils import to_categorical\n",
        "from tensorflow.keras import datasets, layers, models\n",
        "\n"
      ]
    },
    {
      "cell_type": "code",
      "source": [
        "train_digits.shape"
      ],
      "metadata": {
        "colab": {
          "base_uri": "https://localhost:8080/"
        },
        "id": "Lenq9Af3_3xg",
        "outputId": "9bd564db-9192-484d-b23c-84ccc2e0f2d3"
      },
      "id": "Lenq9Af3_3xg",
      "execution_count": null,
      "outputs": [
        {
          "output_type": "execute_result",
          "data": {
            "text/plain": [
              "(50000, 32, 32, 3)"
            ]
          },
          "metadata": {},
          "execution_count": 32
        }
      ]
    },
    {
      "cell_type": "raw",
      "id": "1b31f5cb",
      "metadata": {
        "id": "1b31f5cb"
      },
      "source": [
        "Load and preprocess Data"
      ]
    },
    {
      "cell_type": "code",
      "execution_count": null,
      "id": "d86c7db5",
      "metadata": {
        "colab": {
          "base_uri": "https://localhost:8080/"
        },
        "id": "d86c7db5",
        "outputId": "3a6ec089-7cf0-4aff-c322-d13b956e174d"
      },
      "outputs": [
        {
          "output_type": "stream",
          "name": "stdout",
          "text": [
            "Downloading data from https://www.cs.toronto.edu/~kriz/cifar-10-python.tar.gz\n",
            "170500096/170498071 [==============================] - 13s 0us/step\n",
            "170508288/170498071 [==============================] - 13s 0us/step\n"
          ]
        }
      ],
      "source": [
        "# load the data - it returns 2 tuples of digits & labels - one for\n",
        "# the train set & the other for the test set\n",
        "(train_digits, train_labels), (test_digits, test_labels) = load_data()\n",
        "#  some variables...\n",
        "image_height = train_digits.shape[1]  \n",
        "image_width = train_digits.shape[2]\n",
        "num_channels = 3 \n",
        "\n",
        "\n",
        "train_data=train_digits\n",
        "test_data=test_digits\n",
        "\n",
        "# re-scale the image data to values between [0,1]\n",
        "train_data = train_data.astype('float32') / 255.\n",
        "test_data = test_data.astype('float32') / 255.\n",
        "\n",
        "\n",
        "num_classes = 10\n",
        "train_labels_cat = to_categorical(train_labels,num_classes)\n",
        "test_labels_cat = to_categorical(test_labels,num_classes)\n",
        "\n",
        "# split training set into training and validation\n",
        "train_data2, val_data,train_labels_cat2,  val_labels = train_test_split(train_data, train_labels_cat, test_size=0.2)"
      ]
    },
    {
      "cell_type": "code",
      "execution_count": null,
      "id": "a6e5445d",
      "metadata": {
        "id": "a6e5445d"
      },
      "outputs": [],
      "source": [
        "#n_train_data = np.expand_dims(train_data, -1)\n",
        "#n_train_data.shape"
      ]
    },
    {
      "cell_type": "code",
      "execution_count": null,
      "id": "86e4a97a",
      "metadata": {
        "id": "86e4a97a"
      },
      "outputs": [],
      "source": [
        "from keras.models import Sequential\n",
        "from keras.layers import Conv2D, MaxPooling2D, Flatten, Dense, Dropout\n",
        "import sys\n",
        "from matplotlib import pyplot\n",
        "from keras.datasets import cifar10\n",
        "from tensorflow.keras.utils import to_categorical\n",
        "from keras.models import Sequential\n",
        "from keras.layers import Conv2D\n",
        "from keras.layers import MaxPooling2D\n",
        "from keras.layers import Dense\n",
        "from keras.layers import Flatten\n",
        "from tensorflow.keras.optimizers import Adam, SGD, RMSprop\n",
        "from keras.preprocessing.image import ImageDataGenerator\n",
        "from keras.layers import Dropout\n",
        "from keras.layers import BatchNormalization\n",
        "\n",
        "def define_model():\n",
        "\tmodel = Sequential()\n",
        "\tmodel.add(Conv2D(32, (3, 3), activation='relu',  input_shape=(32, 32, 3)))\n",
        "\tmodel.add(BatchNormalization())\n",
        "\tmodel.add(Conv2D(32, (3, 3), activation='relu'))\n",
        "\tmodel.add(BatchNormalization())\n",
        "\tmodel.add(MaxPooling2D((2, 2)))\n",
        "\tmodel.add(Dropout(0.2))\n",
        "\tmodel.add(Conv2D(64, (3, 3), activation='relu'))\n",
        "\tmodel.add(BatchNormalization())\n",
        "\tmodel.add(Conv2D(64, (3, 3), activation='relu'))\n",
        "\tmodel.add(BatchNormalization())\n",
        "\tmodel.add(MaxPooling2D((2, 2)))\n",
        "\tmodel.add(Dropout(0.3))\n",
        "\tmodel.add(Conv2D(128, (3, 3), activation='relu'))\n",
        "\tmodel.add(BatchNormalization())\n",
        "\tmodel.add(Conv2D(128, (3, 3), activation='relu'))\n",
        "\tmodel.add(BatchNormalization())\n",
        "\tmodel.add(MaxPooling2D((2, 2)))\n",
        "\tmodel.add(Dropout(0.4))\n",
        "\tmodel.add(Flatten())\n",
        "\tmodel.add(Dense(128, activation='relu'))\n",
        "\tmodel.add(BatchNormalization())\n",
        "\tmodel.add(Dropout(0.5))\n",
        "\tmodel.add(Dense(10, activation='softmax'))\n",
        "\t# compile model\n",
        "\topt = SGD(lr=0.001, momentum=0.9)\n",
        "\tmodel.compile(optimizer=opt, loss='categorical_crossentropy', metrics=['accuracy'])\n",
        "\treturn model"
      ]
    },
    {
      "cell_type": "code",
      "execution_count": null,
      "id": "1e697f8e",
      "metadata": {
        "colab": {
          "base_uri": "https://localhost:8080/"
        },
        "id": "1e697f8e",
        "outputId": "a8b38537-3223-4412-f7a0-9c8bde5a5167"
      },
      "outputs": [
        {
          "output_type": "stream",
          "name": "stdout",
          "text": [
            "Model: \"sequential_1\"\n",
            "_________________________________________________________________\n",
            " Layer (type)                Output Shape              Param #   \n",
            "=================================================================\n",
            " conv2d_1 (Conv2D)           (None, 32, 32, 32)        896       \n",
            "                                                                 \n",
            " batch_normalization (BatchN  (None, 32, 32, 32)       128       \n",
            " ormalization)                                                   \n",
            "                                                                 \n",
            " conv2d_2 (Conv2D)           (None, 32, 32, 32)        9248      \n",
            "                                                                 \n",
            " batch_normalization_1 (Batc  (None, 32, 32, 32)       128       \n",
            " hNormalization)                                                 \n",
            "                                                                 \n",
            " max_pooling2d (MaxPooling2D  (None, 16, 16, 32)       0         \n",
            " )                                                               \n",
            "                                                                 \n",
            " dropout (Dropout)           (None, 16, 16, 32)        0         \n",
            "                                                                 \n",
            " conv2d_3 (Conv2D)           (None, 16, 16, 64)        18496     \n",
            "                                                                 \n",
            " batch_normalization_2 (Batc  (None, 16, 16, 64)       256       \n",
            " hNormalization)                                                 \n",
            "                                                                 \n",
            " conv2d_4 (Conv2D)           (None, 16, 16, 64)        36928     \n",
            "                                                                 \n",
            " batch_normalization_3 (Batc  (None, 16, 16, 64)       256       \n",
            " hNormalization)                                                 \n",
            "                                                                 \n",
            " max_pooling2d_1 (MaxPooling  (None, 8, 8, 64)         0         \n",
            " 2D)                                                             \n",
            "                                                                 \n",
            " dropout_1 (Dropout)         (None, 8, 8, 64)          0         \n",
            "                                                                 \n",
            " conv2d_5 (Conv2D)           (None, 8, 8, 128)         73856     \n",
            "                                                                 \n",
            " batch_normalization_4 (Batc  (None, 8, 8, 128)        512       \n",
            " hNormalization)                                                 \n",
            "                                                                 \n",
            " conv2d_6 (Conv2D)           (None, 8, 8, 128)         147584    \n",
            "                                                                 \n",
            " batch_normalization_5 (Batc  (None, 8, 8, 128)        512       \n",
            " hNormalization)                                                 \n",
            "                                                                 \n",
            " max_pooling2d_2 (MaxPooling  (None, 4, 4, 128)        0         \n",
            " 2D)                                                             \n",
            "                                                                 \n",
            " dropout_2 (Dropout)         (None, 4, 4, 128)         0         \n",
            "                                                                 \n",
            " flatten (Flatten)           (None, 2048)              0         \n",
            "                                                                 \n",
            " dense (Dense)               (None, 128)               262272    \n",
            "                                                                 \n",
            " batch_normalization_6 (Batc  (None, 128)              512       \n",
            " hNormalization)                                                 \n",
            "                                                                 \n",
            " dropout_3 (Dropout)         (None, 128)               0         \n",
            "                                                                 \n",
            " dense_1 (Dense)             (None, 10)                1290      \n",
            "                                                                 \n",
            "=================================================================\n",
            "Total params: 552,874\n",
            "Trainable params: 551,722\n",
            "Non-trainable params: 1,152\n",
            "_________________________________________________________________\n"
          ]
        },
        {
          "output_type": "stream",
          "name": "stderr",
          "text": [
            "/usr/local/lib/python3.7/dist-packages/keras/optimizer_v2/gradient_descent.py:102: UserWarning: The `lr` argument is deprecated, use `learning_rate` instead.\n",
            "  super(SGD, self).__init__(name, **kwargs)\n"
          ]
        }
      ],
      "source": [
        "model=define_model()\n",
        "model.summary()"
      ]
    },
    {
      "cell_type": "raw",
      "id": "aad33cf4",
      "metadata": {
        "id": "aad33cf4"
      },
      "source": [
        "The fit() call returns a history dict object as an attribute of the return variable results : training loss, training accuracy, validation loss and validation accuracy."
      ]
    },
    {
      "cell_type": "code",
      "execution_count": null,
      "id": "0a9416bd",
      "metadata": {
        "colab": {
          "base_uri": "https://localhost:8080/"
        },
        "id": "0a9416bd",
        "outputId": "c77d0b35-1616-474e-9a65-68b1259a2e61"
      },
      "outputs": [
        {
          "output_type": "stream",
          "name": "stdout",
          "text": [
            "Epoch 1/100\n",
            "625/625 [==============================] - 24s 37ms/step - loss: 2.1536 - accuracy: 0.3076 - val_loss: 1.4980 - val_accuracy: 0.4514\n",
            "Epoch 2/100\n",
            "625/625 [==============================] - 23s 37ms/step - loss: 1.5918 - accuracy: 0.4245 - val_loss: 1.4227 - val_accuracy: 0.4908\n",
            "Epoch 3/100\n",
            "625/625 [==============================] - 23s 36ms/step - loss: 1.4475 - accuracy: 0.4800 - val_loss: 1.3282 - val_accuracy: 0.5216\n",
            "Epoch 4/100\n",
            "625/625 [==============================] - 23s 37ms/step - loss: 1.3694 - accuracy: 0.5074 - val_loss: 1.3787 - val_accuracy: 0.5036\n",
            "Epoch 5/100\n",
            "625/625 [==============================] - 24s 38ms/step - loss: 1.3008 - accuracy: 0.5330 - val_loss: 1.1887 - val_accuracy: 0.5739\n",
            "Epoch 6/100\n",
            "625/625 [==============================] - 23s 37ms/step - loss: 1.2476 - accuracy: 0.5497 - val_loss: 1.1496 - val_accuracy: 0.5868\n",
            "Epoch 7/100\n",
            "625/625 [==============================] - 23s 37ms/step - loss: 1.1898 - accuracy: 0.5753 - val_loss: 1.1634 - val_accuracy: 0.5867\n",
            "Epoch 8/100\n",
            "625/625 [==============================] - 23s 37ms/step - loss: 1.1457 - accuracy: 0.5911 - val_loss: 1.2059 - val_accuracy: 0.5751\n",
            "Epoch 9/100\n",
            "625/625 [==============================] - 23s 37ms/step - loss: 1.1041 - accuracy: 0.6041 - val_loss: 1.0966 - val_accuracy: 0.6132\n",
            "Epoch 10/100\n",
            "625/625 [==============================] - 23s 37ms/step - loss: 1.0680 - accuracy: 0.6181 - val_loss: 0.9975 - val_accuracy: 0.6434\n",
            "Epoch 11/100\n",
            "625/625 [==============================] - 23s 37ms/step - loss: 1.0310 - accuracy: 0.6345 - val_loss: 1.0823 - val_accuracy: 0.6164\n",
            "Epoch 12/100\n",
            "625/625 [==============================] - 23s 37ms/step - loss: 1.0062 - accuracy: 0.6432 - val_loss: 0.9857 - val_accuracy: 0.6482\n",
            "Epoch 13/100\n",
            "625/625 [==============================] - 23s 37ms/step - loss: 0.9859 - accuracy: 0.6515 - val_loss: 1.1816 - val_accuracy: 0.5862\n",
            "Epoch 14/100\n",
            "625/625 [==============================] - 23s 37ms/step - loss: 0.9624 - accuracy: 0.6575 - val_loss: 0.9575 - val_accuracy: 0.6571\n",
            "Epoch 15/100\n",
            "625/625 [==============================] - 23s 37ms/step - loss: 0.9329 - accuracy: 0.6690 - val_loss: 0.8557 - val_accuracy: 0.6910\n",
            "Epoch 16/100\n",
            "625/625 [==============================] - 23s 37ms/step - loss: 0.9183 - accuracy: 0.6748 - val_loss: 0.8456 - val_accuracy: 0.6960\n",
            "Epoch 17/100\n",
            "625/625 [==============================] - 23s 37ms/step - loss: 0.8967 - accuracy: 0.6836 - val_loss: 0.8115 - val_accuracy: 0.7107\n",
            "Epoch 18/100\n",
            "625/625 [==============================] - 23s 37ms/step - loss: 0.8781 - accuracy: 0.6918 - val_loss: 0.8992 - val_accuracy: 0.6804\n",
            "Epoch 19/100\n",
            "625/625 [==============================] - 23s 37ms/step - loss: 0.8674 - accuracy: 0.6955 - val_loss: 0.9146 - val_accuracy: 0.6744\n",
            "Epoch 20/100\n",
            "625/625 [==============================] - 24s 39ms/step - loss: 0.8520 - accuracy: 0.7002 - val_loss: 0.8436 - val_accuracy: 0.7037\n",
            "Epoch 21/100\n",
            "625/625 [==============================] - 24s 39ms/step - loss: 0.8372 - accuracy: 0.7068 - val_loss: 0.7850 - val_accuracy: 0.7230\n",
            "Epoch 22/100\n",
            "625/625 [==============================] - 23s 37ms/step - loss: 0.8272 - accuracy: 0.7109 - val_loss: 0.8345 - val_accuracy: 0.7038\n",
            "Epoch 23/100\n",
            "625/625 [==============================] - 23s 37ms/step - loss: 0.8102 - accuracy: 0.7168 - val_loss: 0.7556 - val_accuracy: 0.7310\n",
            "Epoch 24/100\n",
            "625/625 [==============================] - 24s 38ms/step - loss: 0.8060 - accuracy: 0.7170 - val_loss: 0.8386 - val_accuracy: 0.7031\n",
            "Epoch 25/100\n",
            "625/625 [==============================] - 23s 37ms/step - loss: 0.7955 - accuracy: 0.7219 - val_loss: 0.7631 - val_accuracy: 0.7277\n",
            "Epoch 26/100\n",
            "625/625 [==============================] - 23s 37ms/step - loss: 0.7862 - accuracy: 0.7248 - val_loss: 0.7922 - val_accuracy: 0.7190\n",
            "Epoch 27/100\n",
            "625/625 [==============================] - 23s 37ms/step - loss: 0.7752 - accuracy: 0.7284 - val_loss: 0.7467 - val_accuracy: 0.7355\n",
            "Epoch 28/100\n",
            "625/625 [==============================] - 23s 37ms/step - loss: 0.7620 - accuracy: 0.7364 - val_loss: 0.7071 - val_accuracy: 0.7495\n",
            "Epoch 29/100\n",
            "625/625 [==============================] - 23s 37ms/step - loss: 0.7531 - accuracy: 0.7375 - val_loss: 0.6911 - val_accuracy: 0.7545\n",
            "Epoch 30/100\n",
            "625/625 [==============================] - 23s 37ms/step - loss: 0.7463 - accuracy: 0.7392 - val_loss: 0.7358 - val_accuracy: 0.7410\n",
            "Epoch 31/100\n",
            "625/625 [==============================] - 23s 36ms/step - loss: 0.7399 - accuracy: 0.7433 - val_loss: 0.7338 - val_accuracy: 0.7404\n",
            "Epoch 32/100\n",
            "625/625 [==============================] - 24s 38ms/step - loss: 0.7304 - accuracy: 0.7452 - val_loss: 0.6831 - val_accuracy: 0.7575\n",
            "Epoch 33/100\n",
            "625/625 [==============================] - 23s 37ms/step - loss: 0.7167 - accuracy: 0.7508 - val_loss: 0.7224 - val_accuracy: 0.7460\n",
            "Epoch 34/100\n",
            "625/625 [==============================] - 24s 39ms/step - loss: 0.7133 - accuracy: 0.7496 - val_loss: 0.6731 - val_accuracy: 0.7584\n",
            "Epoch 35/100\n",
            "625/625 [==============================] - 23s 37ms/step - loss: 0.7075 - accuracy: 0.7519 - val_loss: 0.6575 - val_accuracy: 0.7666\n",
            "Epoch 36/100\n",
            "625/625 [==============================] - 24s 39ms/step - loss: 0.6945 - accuracy: 0.7583 - val_loss: 0.7030 - val_accuracy: 0.7526\n",
            "Epoch 37/100\n",
            "625/625 [==============================] - 23s 37ms/step - loss: 0.6817 - accuracy: 0.7643 - val_loss: 0.6480 - val_accuracy: 0.7660\n",
            "Epoch 38/100\n",
            "625/625 [==============================] - 23s 37ms/step - loss: 0.6828 - accuracy: 0.7630 - val_loss: 0.6405 - val_accuracy: 0.7721\n",
            "Epoch 39/100\n",
            "625/625 [==============================] - 23s 37ms/step - loss: 0.6724 - accuracy: 0.7666 - val_loss: 0.6216 - val_accuracy: 0.7789\n",
            "Epoch 40/100\n",
            "625/625 [==============================] - 23s 37ms/step - loss: 0.6637 - accuracy: 0.7691 - val_loss: 0.8302 - val_accuracy: 0.7135\n",
            "Epoch 41/100\n",
            "625/625 [==============================] - 23s 37ms/step - loss: 0.6605 - accuracy: 0.7678 - val_loss: 0.6479 - val_accuracy: 0.7739\n",
            "Epoch 42/100\n",
            "625/625 [==============================] - 24s 38ms/step - loss: 0.6551 - accuracy: 0.7733 - val_loss: 0.6608 - val_accuracy: 0.7691\n",
            "Epoch 43/100\n",
            "625/625 [==============================] - 23s 37ms/step - loss: 0.6482 - accuracy: 0.7763 - val_loss: 0.6510 - val_accuracy: 0.7751\n",
            "Epoch 44/100\n",
            "625/625 [==============================] - 23s 37ms/step - loss: 0.6405 - accuracy: 0.7785 - val_loss: 0.6258 - val_accuracy: 0.7789\n",
            "Epoch 45/100\n",
            "625/625 [==============================] - 24s 39ms/step - loss: 0.6372 - accuracy: 0.7776 - val_loss: 0.6034 - val_accuracy: 0.7854\n",
            "Epoch 46/100\n",
            "625/625 [==============================] - 23s 37ms/step - loss: 0.6272 - accuracy: 0.7824 - val_loss: 0.5932 - val_accuracy: 0.7901\n",
            "Epoch 47/100\n",
            "625/625 [==============================] - 23s 37ms/step - loss: 0.6272 - accuracy: 0.7814 - val_loss: 0.6198 - val_accuracy: 0.7825\n",
            "Epoch 48/100\n",
            "625/625 [==============================] - 23s 37ms/step - loss: 0.6195 - accuracy: 0.7841 - val_loss: 0.6963 - val_accuracy: 0.7601\n",
            "Epoch 49/100\n",
            "625/625 [==============================] - 23s 37ms/step - loss: 0.6103 - accuracy: 0.7868 - val_loss: 0.6388 - val_accuracy: 0.7773\n",
            "Epoch 50/100\n",
            "625/625 [==============================] - 23s 37ms/step - loss: 0.6066 - accuracy: 0.7886 - val_loss: 0.6071 - val_accuracy: 0.7843\n",
            "Epoch 51/100\n",
            "625/625 [==============================] - 23s 37ms/step - loss: 0.5992 - accuracy: 0.7926 - val_loss: 0.5865 - val_accuracy: 0.7934\n",
            "Epoch 52/100\n",
            "625/625 [==============================] - 23s 37ms/step - loss: 0.5938 - accuracy: 0.7953 - val_loss: 0.5803 - val_accuracy: 0.7990\n",
            "Epoch 53/100\n",
            "625/625 [==============================] - 24s 38ms/step - loss: 0.5900 - accuracy: 0.7943 - val_loss: 0.5988 - val_accuracy: 0.7893\n",
            "Epoch 54/100\n",
            "625/625 [==============================] - 23s 37ms/step - loss: 0.5901 - accuracy: 0.7935 - val_loss: 0.6017 - val_accuracy: 0.7912\n",
            "Epoch 55/100\n",
            "625/625 [==============================] - 23s 37ms/step - loss: 0.5792 - accuracy: 0.7980 - val_loss: 0.5752 - val_accuracy: 0.8007\n",
            "Epoch 56/100\n",
            "625/625 [==============================] - 23s 37ms/step - loss: 0.5790 - accuracy: 0.7980 - val_loss: 0.5823 - val_accuracy: 0.7988\n",
            "Epoch 57/100\n",
            "625/625 [==============================] - 23s 37ms/step - loss: 0.5630 - accuracy: 0.8040 - val_loss: 0.5646 - val_accuracy: 0.8001\n",
            "Epoch 58/100\n",
            "625/625 [==============================] - 23s 37ms/step - loss: 0.5646 - accuracy: 0.8026 - val_loss: 0.5924 - val_accuracy: 0.7960\n",
            "Epoch 59/100\n",
            "625/625 [==============================] - 23s 37ms/step - loss: 0.5558 - accuracy: 0.8092 - val_loss: 0.5697 - val_accuracy: 0.8018\n",
            "Epoch 60/100\n",
            "625/625 [==============================] - 23s 37ms/step - loss: 0.5514 - accuracy: 0.8079 - val_loss: 0.5790 - val_accuracy: 0.8020\n",
            "Epoch 61/100\n",
            "625/625 [==============================] - 23s 37ms/step - loss: 0.5469 - accuracy: 0.8080 - val_loss: 0.5690 - val_accuracy: 0.8028\n",
            "Epoch 62/100\n",
            "625/625 [==============================] - 23s 37ms/step - loss: 0.5444 - accuracy: 0.8117 - val_loss: 0.5728 - val_accuracy: 0.7995\n",
            "Epoch 63/100\n",
            "625/625 [==============================] - 23s 37ms/step - loss: 0.5463 - accuracy: 0.8094 - val_loss: 0.5643 - val_accuracy: 0.8076\n",
            "Epoch 64/100\n",
            "625/625 [==============================] - 23s 37ms/step - loss: 0.5327 - accuracy: 0.8152 - val_loss: 0.5790 - val_accuracy: 0.8002\n",
            "Epoch 65/100\n",
            "625/625 [==============================] - 24s 39ms/step - loss: 0.5301 - accuracy: 0.8155 - val_loss: 0.5762 - val_accuracy: 0.8033\n",
            "Epoch 66/100\n",
            "625/625 [==============================] - 23s 37ms/step - loss: 0.5239 - accuracy: 0.8184 - val_loss: 0.5715 - val_accuracy: 0.8038\n",
            "Epoch 67/100\n",
            "625/625 [==============================] - 24s 39ms/step - loss: 0.5239 - accuracy: 0.8209 - val_loss: 0.5968 - val_accuracy: 0.7970\n",
            "Epoch 68/100\n",
            "625/625 [==============================] - 23s 37ms/step - loss: 0.5190 - accuracy: 0.8181 - val_loss: 0.5495 - val_accuracy: 0.8095\n",
            "Epoch 69/100\n",
            "625/625 [==============================] - 23s 37ms/step - loss: 0.5118 - accuracy: 0.8231 - val_loss: 0.5455 - val_accuracy: 0.8116\n",
            "Epoch 70/100\n",
            "625/625 [==============================] - 23s 37ms/step - loss: 0.5104 - accuracy: 0.8210 - val_loss: 0.5615 - val_accuracy: 0.8089\n",
            "Epoch 71/100\n",
            "625/625 [==============================] - 23s 37ms/step - loss: 0.5043 - accuracy: 0.8244 - val_loss: 0.5274 - val_accuracy: 0.8174\n",
            "Epoch 72/100\n",
            "625/625 [==============================] - 23s 37ms/step - loss: 0.4988 - accuracy: 0.8268 - val_loss: 0.5470 - val_accuracy: 0.8108\n",
            "Epoch 73/100\n",
            "625/625 [==============================] - 23s 37ms/step - loss: 0.4967 - accuracy: 0.8274 - val_loss: 0.5968 - val_accuracy: 0.7985\n",
            "Epoch 74/100\n",
            "625/625 [==============================] - 23s 37ms/step - loss: 0.4935 - accuracy: 0.8299 - val_loss: 0.5330 - val_accuracy: 0.8170\n",
            "Epoch 75/100\n",
            "625/625 [==============================] - 23s 37ms/step - loss: 0.4947 - accuracy: 0.8267 - val_loss: 0.5749 - val_accuracy: 0.8056\n",
            "Epoch 76/100\n",
            "625/625 [==============================] - 23s 37ms/step - loss: 0.4871 - accuracy: 0.8322 - val_loss: 0.5765 - val_accuracy: 0.8049\n",
            "Epoch 77/100\n",
            "625/625 [==============================] - 23s 37ms/step - loss: 0.4828 - accuracy: 0.8325 - val_loss: 0.5698 - val_accuracy: 0.8060\n",
            "Epoch 78/100\n",
            "625/625 [==============================] - 23s 37ms/step - loss: 0.4758 - accuracy: 0.8340 - val_loss: 0.5662 - val_accuracy: 0.8094\n",
            "Epoch 79/100\n",
            "625/625 [==============================] - 23s 37ms/step - loss: 0.4767 - accuracy: 0.8323 - val_loss: 0.5377 - val_accuracy: 0.8193\n",
            "Epoch 80/100\n",
            "625/625 [==============================] - 23s 37ms/step - loss: 0.4635 - accuracy: 0.8374 - val_loss: 0.5299 - val_accuracy: 0.8219\n",
            "Epoch 81/100\n",
            "625/625 [==============================] - 23s 37ms/step - loss: 0.4628 - accuracy: 0.8395 - val_loss: 0.5637 - val_accuracy: 0.8086\n",
            "Epoch 82/100\n",
            "625/625 [==============================] - 23s 37ms/step - loss: 0.4625 - accuracy: 0.8377 - val_loss: 0.5198 - val_accuracy: 0.8245\n",
            "Epoch 83/100\n",
            "625/625 [==============================] - 23s 37ms/step - loss: 0.4549 - accuracy: 0.8435 - val_loss: 0.5348 - val_accuracy: 0.8187\n",
            "Epoch 84/100\n",
            "625/625 [==============================] - 23s 37ms/step - loss: 0.4525 - accuracy: 0.8427 - val_loss: 0.5490 - val_accuracy: 0.8172\n",
            "Epoch 85/100\n",
            "625/625 [==============================] - 23s 37ms/step - loss: 0.4552 - accuracy: 0.8414 - val_loss: 0.5796 - val_accuracy: 0.8044\n",
            "Epoch 86/100\n",
            "625/625 [==============================] - 23s 37ms/step - loss: 0.4494 - accuracy: 0.8427 - val_loss: 0.5184 - val_accuracy: 0.8232\n",
            "Epoch 87/100\n",
            "625/625 [==============================] - 23s 37ms/step - loss: 0.4384 - accuracy: 0.8464 - val_loss: 0.5713 - val_accuracy: 0.8070\n",
            "Epoch 88/100\n",
            "625/625 [==============================] - 23s 37ms/step - loss: 0.4439 - accuracy: 0.8457 - val_loss: 0.5486 - val_accuracy: 0.8182\n",
            "Epoch 89/100\n",
            "625/625 [==============================] - 23s 37ms/step - loss: 0.4367 - accuracy: 0.8493 - val_loss: 0.5182 - val_accuracy: 0.8246\n",
            "Epoch 90/100\n",
            "625/625 [==============================] - 24s 39ms/step - loss: 0.4339 - accuracy: 0.8489 - val_loss: 0.5834 - val_accuracy: 0.8065\n",
            "Epoch 91/100\n",
            "625/625 [==============================] - 23s 37ms/step - loss: 0.4333 - accuracy: 0.8494 - val_loss: 0.5066 - val_accuracy: 0.8307\n",
            "Epoch 92/100\n",
            "625/625 [==============================] - 23s 37ms/step - loss: 0.4259 - accuracy: 0.8509 - val_loss: 0.4987 - val_accuracy: 0.8320\n",
            "Epoch 93/100\n",
            "625/625 [==============================] - 23s 37ms/step - loss: 0.4218 - accuracy: 0.8522 - val_loss: 0.5559 - val_accuracy: 0.8125\n",
            "Epoch 94/100\n",
            "625/625 [==============================] - 23s 37ms/step - loss: 0.4197 - accuracy: 0.8532 - val_loss: 0.5083 - val_accuracy: 0.8329\n",
            "Epoch 95/100\n",
            "625/625 [==============================] - 23s 37ms/step - loss: 0.4202 - accuracy: 0.8543 - val_loss: 0.5384 - val_accuracy: 0.8191\n",
            "Epoch 96/100\n",
            "625/625 [==============================] - 24s 39ms/step - loss: 0.4129 - accuracy: 0.8554 - val_loss: 0.5084 - val_accuracy: 0.8322\n",
            "Epoch 97/100\n",
            "625/625 [==============================] - 23s 37ms/step - loss: 0.4111 - accuracy: 0.8571 - val_loss: 0.5258 - val_accuracy: 0.8293\n",
            "Epoch 98/100\n",
            "625/625 [==============================] - 23s 37ms/step - loss: 0.4080 - accuracy: 0.8571 - val_loss: 0.5099 - val_accuracy: 0.8300\n",
            "Epoch 99/100\n",
            "625/625 [==============================] - 23s 37ms/step - loss: 0.4048 - accuracy: 0.8576 - val_loss: 0.5559 - val_accuracy: 0.8152\n",
            "Epoch 100/100\n",
            "625/625 [==============================] - 23s 37ms/step - loss: 0.4009 - accuracy: 0.8597 - val_loss: 0.5301 - val_accuracy: 0.8219\n"
          ]
        }
      ],
      "source": [
        "history = model.fit(train_data2, train_labels_cat2, \n",
        "                    epochs=100, batch_size=64,\n",
        "                    validation_data=(val_data, val_labels))"
      ]
    },
    {
      "cell_type": "code",
      "execution_count": null,
      "id": "f01f6968",
      "metadata": {
        "colab": {
          "base_uri": "https://localhost:8080/",
          "height": 295
        },
        "id": "f01f6968",
        "outputId": "ff1137ac-5b66-4cee-c3e1-21a9e3cc4dd5"
      },
      "outputs": [
        {
          "output_type": "display_data",
          "data": {
            "image/png": "[encoded data removed]",
            "text/plain": [
              "<Figure size 432x288 with 1 Axes>"
            ]
          },
          "metadata": {
            "needs_background": "light"
          }
        }
      ],
      "source": [
        "# summarize history for accuracy\n",
        "import matplotlib.pyplot as plt\n",
        "plt.plot(history.history['loss'])\n",
        "plt.plot(history.history['val_loss'])\n",
        "plt.title('model loss')\n",
        "plt.ylabel('loss')\n",
        "plt.xlabel('epoch')\n",
        "plt.legend(['train', 'val'], loc='upper left')\n",
        "plt.show()"
      ]
    },
    {
      "cell_type": "code",
      "execution_count": null,
      "id": "b98440b8",
      "metadata": {
        "colab": {
          "base_uri": "https://localhost:8080/"
        },
        "id": "b98440b8",
        "outputId": "1a33d302-9655-4738-91d3-ad31f2f343bc"
      },
      "outputs": [
        {
          "output_type": "stream",
          "name": "stdout",
          "text": [
            "157/157 [==============================] - 2s 11ms/step - loss: 0.5461 - accuracy: 0.8210\n",
            "Test loss: 0.5461 accuracy: 0.8210\n"
          ]
        }
      ],
      "source": [
        "test_loss, test_accuracy = model.evaluate(test_data, test_labels_cat, batch_size=64)\n",
        "print('Test loss: %.4f accuracy: %.4f' % (test_loss, test_accuracy))"
      ]
    }
  ],
  "metadata": {
    "kernelspec": {
      "display_name": "Python 3 (ipykernel)",
      "language": "python",
      "name": "python3"
    },
    "language_info": {
      "codemirror_mode": {
        "name": "ipython",
        "version": 3
      },
      "file_extension": ".py",
      "mimetype": "text/x-python",
      "name": "python",
      "nbconvert_exporter": "python",
      "pygments_lexer": "ipython3",
      "version": "3.8.11"
    },
    "colab": {
      "name": "KASRAOUI DHIRAR & MED HEDI JARRAYA : CNN sur Cifar10.ipynb",
      "provenance": [],
      "collapsed_sections": []
    },
    "accelerator": "GPU"
  },
  "nbformat": 4,
  "nbformat_minor": 5
}